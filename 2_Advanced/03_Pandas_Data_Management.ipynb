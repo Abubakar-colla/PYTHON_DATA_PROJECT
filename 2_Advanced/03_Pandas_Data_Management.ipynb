{
  "cells": [
    {
      "cell_type": "markdown",
      "metadata": {
        "id": "e01e7761"
      },
      "source": [
        "<a target=\"_blank\" href=\"https://colab.research.google.com/github/lukebarousse/Python_Data_Analytics_Course/blob/main/2_Advanced/03_Pandas_Data_Management.ipynb\">\n",
        "  <img src=\"https://colab.research.google.com/assets/colab-badge.svg\" alt=\"Open In Colab\"/>\n",
        "</a>"
      ]
    },
    {
      "cell_type": "markdown",
      "metadata": {
        "id": "Ah78BBuvJN8N"
      },
      "source": [
        "# Pandas Data Management"
      ]
    },
    {
      "cell_type": "markdown",
      "metadata": {
        "id": "FJcrSIgq5EWj"
      },
      "source": [
        "Load data."
      ]
    },
    {
      "cell_type": "code",
      "execution_count": 1,
      "metadata": {
        "id": "7pbTQBUb5EWk"
      },
      "outputs": [
        {
          "name": "stderr",
          "output_type": "stream",
          "text": [
            "c:\\Users\\EliteBook mt44\\anaconda3\\envs\\python_course\\Lib\\site-packages\\tqdm\\auto.py:21: TqdmWarning: IProgress not found. Please update jupyter and ipywidgets. See https://ipywidgets.readthedocs.io/en/stable/user_install.html\n",
            "  from .autonotebook import tqdm as notebook_tqdm\n"
          ]
        }
      ],
      "source": [
        "# Importing Libraries\n",
        "import pandas as pd\n",
        "from datasets import load_dataset\n",
        "import matplotlib.pyplot as plt\n",
        "\n",
        "# Loading Data\n",
        "dataset = load_dataset('lukebarousse/data_jobs')\n",
        "df = dataset['train'].to_pandas()\n",
        "\n",
        "# Data Cleanup\n",
        "df['job_posted_date'] = pd.to_datetime(df['job_posted_date'])\n",
        "\n",
        "# DataFrame Copy\n",
        "df_original = df.copy()"
      ]
    },
    {
      "cell_type": "markdown",
      "metadata": {
        "id": "Qmj2OkwP5EWl"
      },
      "source": [
        "## Copy"
      ]
    },
    {
      "cell_type": "markdown",
      "metadata": {
        "id": "7ykm-5yj5EWl"
      },
      "source": [
        "Recall from the last lesson, when we filled in missing values for median salary.\n",
        "\n",
        "Here let's make a new dataframe `df_altered` and only make changes to it."
      ]
    },
    {
      "cell_type": "code",
      "execution_count": 3,
      "metadata": {
        "id": "BPdgeBBU5EWm",
        "outputId": "0d019991-27a1-4ddc-fe9c-c3666295989e"
      },
      "outputs": [
        {
          "data": {
            "text/plain": [
              "0   NaN\n",
              "1   NaN\n",
              "2   NaN\n",
              "3   NaN\n",
              "4   NaN\n",
              "5   NaN\n",
              "Name: salary_year_avg, dtype: float64"
            ]
          },
          "execution_count": 3,
          "metadata": {},
          "output_type": "execute_result"
        }
      ],
      "source": [
        "# Create new dataframe\n",
        "df_altered = df_original\n",
        "\n",
        "df_altered.loc[:5,'salary_year_avg']"
      ]
    },
    {
      "cell_type": "markdown",
      "metadata": {
        "id": "Ok-MjKUL5EWn"
      },
      "source": [
        "Let's fill in missing values with the median value."
      ]
    },
    {
      "cell_type": "code",
      "execution_count": 4,
      "metadata": {
        "id": "p0vOLGX15EWn"
      },
      "outputs": [],
      "source": [
        "# Calculating the median salary\n",
        "median_salary = df_altered['salary_year_avg'].median()\n",
        "\n",
        "# Filling the missing values with the median salary\n",
        "df_altered['salary_year_avg'] = df_altered.loc[:,'salary_year_avg'].fillna(median_salary)"
      ]
    },
    {
      "cell_type": "code",
      "execution_count": 5,
      "metadata": {
        "id": "KGkUWt8t5EWo"
      },
      "outputs": [],
      "source": [
        "df_altered['salary_year_avg'] = df_altered['salary_year_avg'].fillna(median_salary)"
      ]
    },
    {
      "cell_type": "markdown",
      "metadata": {
        "id": "fUJl38PU5EWo"
      },
      "source": [
        "Now let's inspect the altered DataFrame."
      ]
    },
    {
      "cell_type": "code",
      "execution_count": 6,
      "metadata": {
        "id": "2CvKeoej5EWo",
        "outputId": "c33892e3-bba2-4893-9bec-577bf94f4f08"
      },
      "outputs": [
        {
          "data": {
            "text/plain": [
              "0    115000.0\n",
              "1    115000.0\n",
              "2    115000.0\n",
              "3    115000.0\n",
              "4    115000.0\n",
              "5    115000.0\n",
              "Name: salary_year_avg, dtype: float64"
            ]
          },
          "execution_count": 6,
          "metadata": {},
          "output_type": "execute_result"
        }
      ],
      "source": [
        "df_altered.loc[:5,'salary_year_avg']"
      ]
    },
    {
      "cell_type": "markdown",
      "metadata": {
        "id": "sNcRJPP25EWp"
      },
      "source": [
        "That was good...\n",
        "\n",
        "But what about the original..."
      ]
    },
    {
      "cell_type": "code",
      "execution_count": 7,
      "metadata": {
        "id": "R0Syh8qP5EWp",
        "outputId": "f9ebd933-40a9-43ae-d934-b6b72f8d26da"
      },
      "outputs": [
        {
          "data": {
            "text/plain": [
              "0    115000.0\n",
              "1    115000.0\n",
              "2    115000.0\n",
              "3    115000.0\n",
              "4    115000.0\n",
              "5    115000.0\n",
              "Name: salary_year_avg, dtype: float64"
            ]
          },
          "execution_count": 7,
          "metadata": {},
          "output_type": "execute_result"
        }
      ],
      "source": [
        "df_original.loc[:5,'salary_year_avg']"
      ]
    },
    {
      "cell_type": "markdown",
      "metadata": {
        "id": "XlK-bMzY5EWp"
      },
      "source": [
        "Holdup!! How the heck did `df_original` get altered!?!"
      ]
    },
    {
      "cell_type": "markdown",
      "metadata": {
        "id": "ms3aVVeF5EWp"
      },
      "source": [
        "Well both the variables of `df_original` and `df_altered` are referencing the same DataFrame."
      ]
    },
    {
      "cell_type": "code",
      "execution_count": 9,
      "metadata": {
        "id": "NslGeHt05EWp",
        "outputId": "63ccc726-71de-457a-c54a-653e3c05ae64"
      },
      "outputs": [
        {
          "name": "stdout",
          "output_type": "stream",
          "text": [
            "ID of df_original:                1789144651856\n",
            "ID of df_altered:                 1789144651856\n",
            "Are the two dataframes the same?  True\n"
          ]
        }
      ],
      "source": [
        "print('ID of df_original:               ', id(df_original))\n",
        "print('ID of df_altered:                ', id(df_altered))\n",
        "print('Are the two dataframes the same? ', id(df_original) == id(df_altered))"
      ]
    },
    {
      "cell_type": "markdown",
      "metadata": {
        "id": "buDafVG35EWq"
      },
      "source": [
        "Instead we can use the .copy() method\n",
        "\n",
        "- `copy()`: Copy a DataFrame."
      ]
    },
    {
      "cell_type": "code",
      "execution_count": 10,
      "metadata": {
        "id": "y7xn__qJ5EWq",
        "outputId": "08705b46-1b8c-454d-de2b-b1a02178ec86"
      },
      "outputs": [
        {
          "name": "stdout",
          "output_type": "stream",
          "text": [
            "ID of df_original:                1789748347920\n",
            "ID of df_altered:                 1789748347728\n",
            "Are the two dataframes the same?  False\n"
          ]
        }
      ],
      "source": [
        "df_original = df.copy()\n",
        "df_altered = df_original.copy()\n",
        "\n",
        "print('ID of df_original:               ', id(df_original))\n",
        "print('ID of df_altered:                ', id(df_altered))\n",
        "print('Are the two dataframes the same? ', id(df_original) == id(df_altered))"
      ]
    },
    {
      "cell_type": "markdown",
      "metadata": {
        "id": "IgLwpC5-5EWq"
      },
      "source": [
        "Now when we do this same operation:"
      ]
    },
    {
      "cell_type": "code",
      "execution_count": null,
      "metadata": {
        "id": "3CEIc3aM5EWq",
        "outputId": "ab932989-9793-4953-aa1e-4daefd413da0"
      },
      "outputs": [
        {
          "data": {
            "text/plain": [
              "0    115000.0\n",
              "1    115000.0\n",
              "2    115000.0\n",
              "3    115000.0\n",
              "4    115000.0\n",
              "5    115000.0\n",
              "Name: salary_year_avg, dtype: float64"
            ]
          },
          "execution_count": 9,
          "metadata": {},
          "output_type": "execute_result"
        }
      ],
      "source": [
        "# Calculating the median salary\n",
        "median_salary = df_altered['salary_year_avg'].median()\n",
        "\n",
        "# Filling the missing values with the median salary\n",
        "df_altered['salary_year_avg'] = df_altered['salary_year_avg'].fillna(median_salary)\n",
        "\n",
        "df_altered.loc[:5,'salary_year_avg']"
      ]
    },
    {
      "cell_type": "markdown",
      "metadata": {
        "id": "G7vhRimy5EWr"
      },
      "source": [
        "The original dataframe doesn't get altered!"
      ]
    },
    {
      "cell_type": "code",
      "execution_count": null,
      "metadata": {
        "id": "s7sWMfl25EWr",
        "outputId": "fb208b8e-3145-4902-cf06-77c623fb4853"
      },
      "outputs": [
        {
          "data": {
            "text/plain": [
              "0   NaN\n",
              "1   NaN\n",
              "2   NaN\n",
              "3   NaN\n",
              "4   NaN\n",
              "5   NaN\n",
              "Name: salary_year_avg, dtype: float64"
            ]
          },
          "execution_count": 10,
          "metadata": {},
          "output_type": "execute_result"
        }
      ],
      "source": [
        "df_original.loc[:5,'salary_year_avg']"
      ]
    },
    {
      "cell_type": "markdown",
      "metadata": {
        "id": "2K2L167Q5EWr"
      },
      "source": [
        "Now that we've created a copy of our data, we want to start our analysis. But if we have a large set of data we only want to take a subset of data to make it more manageable. We can use `sample()` to get a random sample of the data."
      ]
    },
    {
      "cell_type": "markdown",
      "metadata": {
        "id": "r3T1uris5EWr"
      },
      "source": [
        "## Sample\n",
        "\n",
        "### Notes\n",
        "\n",
        "* `sample()`: Random sample of items.\n",
        "\n",
        "### Examples\n",
        "\n",
        "Let's get a random sample of the data. You could get a sample with a fixed row number."
      ]
    },
    {
      "cell_type": "code",
      "execution_count": 11,
      "metadata": {
        "id": "1sRls3ox5EWr",
        "outputId": "8f02aee1-801b-4946-a738-1841b6defa49"
      },
      "outputs": [
        {
          "data": {
            "text/html": [
              "<div>\n",
              "<style scoped>\n",
              "    .dataframe tbody tr th:only-of-type {\n",
              "        vertical-align: middle;\n",
              "    }\n",
              "\n",
              "    .dataframe tbody tr th {\n",
              "        vertical-align: top;\n",
              "    }\n",
              "\n",
              "    .dataframe thead th {\n",
              "        text-align: right;\n",
              "    }\n",
              "</style>\n",
              "<table border=\"1\" class=\"dataframe\">\n",
              "  <thead>\n",
              "    <tr style=\"text-align: right;\">\n",
              "      <th></th>\n",
              "      <th>job_title_short</th>\n",
              "      <th>job_title</th>\n",
              "      <th>job_location</th>\n",
              "      <th>job_via</th>\n",
              "      <th>job_schedule_type</th>\n",
              "      <th>job_work_from_home</th>\n",
              "      <th>search_location</th>\n",
              "      <th>job_posted_date</th>\n",
              "      <th>job_no_degree_mention</th>\n",
              "      <th>job_health_insurance</th>\n",
              "      <th>job_country</th>\n",
              "      <th>salary_rate</th>\n",
              "      <th>salary_year_avg</th>\n",
              "      <th>salary_hour_avg</th>\n",
              "      <th>company_name</th>\n",
              "      <th>job_skills</th>\n",
              "      <th>job_type_skills</th>\n",
              "    </tr>\n",
              "  </thead>\n",
              "  <tbody>\n",
              "    <tr>\n",
              "      <th>51077</th>\n",
              "      <td>Data Engineer</td>\n",
              "      <td>Principal Data Engineer</td>\n",
              "      <td>Anywhere</td>\n",
              "      <td>via LinkedIn</td>\n",
              "      <td>Full-time</td>\n",
              "      <td>True</td>\n",
              "      <td>India</td>\n",
              "      <td>2023-06-21 06:13:06</td>\n",
              "      <td>False</td>\n",
              "      <td>False</td>\n",
              "      <td>India</td>\n",
              "      <td>None</td>\n",
              "      <td>NaN</td>\n",
              "      <td>NaN</td>\n",
              "      <td>Skillsoft</td>\n",
              "      <td>['python', 'r', 'sql', 'sql server', 'azure', ...</td>\n",
              "      <td>{'cloud': ['azure'], 'databases': ['sql server...</td>\n",
              "    </tr>\n",
              "    <tr>\n",
              "      <th>163840</th>\n",
              "      <td>Data Engineer</td>\n",
              "      <td>Interim Data Engineer | SaaS</td>\n",
              "      <td>London, UK</td>\n",
              "      <td>via MyArklaMiss Jobs</td>\n",
              "      <td>Full-time</td>\n",
              "      <td>False</td>\n",
              "      <td>United Kingdom</td>\n",
              "      <td>2023-07-31 16:01:20</td>\n",
              "      <td>True</td>\n",
              "      <td>False</td>\n",
              "      <td>United Kingdom</td>\n",
              "      <td>None</td>\n",
              "      <td>NaN</td>\n",
              "      <td>NaN</td>\n",
              "      <td>Agora Talent</td>\n",
              "      <td>['excel']</td>\n",
              "      <td>{'analyst_tools': ['excel']}</td>\n",
              "    </tr>\n",
              "    <tr>\n",
              "      <th>391134</th>\n",
              "      <td>Data Engineer</td>\n",
              "      <td>Sql / Bi Entwickler (m/w/d) - It Data Engineer</td>\n",
              "      <td>Freiburg im Breisgau, Germany</td>\n",
              "      <td>via My ArkLaMiss Jobs</td>\n",
              "      <td>Full-time</td>\n",
              "      <td>False</td>\n",
              "      <td>Germany</td>\n",
              "      <td>2023-02-16 18:15:09</td>\n",
              "      <td>True</td>\n",
              "      <td>False</td>\n",
              "      <td>Germany</td>\n",
              "      <td>None</td>\n",
              "      <td>NaN</td>\n",
              "      <td>NaN</td>\n",
              "      <td>Ratbacher GmbH</td>\n",
              "      <td>['sql']</td>\n",
              "      <td>{'programming': ['sql']}</td>\n",
              "    </tr>\n",
              "    <tr>\n",
              "      <th>594444</th>\n",
              "      <td>Data Engineer</td>\n",
              "      <td>Data Engineer (3640 USD/Mes)</td>\n",
              "      <td>Anywhere</td>\n",
              "      <td>via LinkedIn</td>\n",
              "      <td>Full-time</td>\n",
              "      <td>True</td>\n",
              "      <td>Mexico</td>\n",
              "      <td>2023-10-31 09:09:04</td>\n",
              "      <td>True</td>\n",
              "      <td>False</td>\n",
              "      <td>Mexico</td>\n",
              "      <td>None</td>\n",
              "      <td>NaN</td>\n",
              "      <td>NaN</td>\n",
              "      <td>Listopro</td>\n",
              "      <td>['sql', 'python', 'r', 'redshift', 'tableau', ...</td>\n",
              "      <td>{'analyst_tools': ['tableau', 'excel'], 'cloud...</td>\n",
              "    </tr>\n",
              "    <tr>\n",
              "      <th>313443</th>\n",
              "      <td>Data Scientist</td>\n",
              "      <td>Techno Functional Analyst</td>\n",
              "      <td>Singapore</td>\n",
              "      <td>via Jooble</td>\n",
              "      <td>Full-time</td>\n",
              "      <td>False</td>\n",
              "      <td>Singapore</td>\n",
              "      <td>2023-01-10 17:42:12</td>\n",
              "      <td>True</td>\n",
              "      <td>False</td>\n",
              "      <td>Singapore</td>\n",
              "      <td>None</td>\n",
              "      <td>NaN</td>\n",
              "      <td>NaN</td>\n",
              "      <td>Tata Consultancy Services Asia Pacific Pte. Ltd.</td>\n",
              "      <td>['python', 'sql', 'nosql', 'r', 'scala', 'sas'...</td>\n",
              "      <td>{'analyst_tools': ['sas', 'tableau', 'cognos']...</td>\n",
              "    </tr>\n",
              "  </tbody>\n",
              "</table>\n",
              "</div>"
            ],
            "text/plain": [
              "       job_title_short                                       job_title  \\\n",
              "51077    Data Engineer                         Principal Data Engineer   \n",
              "163840   Data Engineer                    Interim Data Engineer | SaaS   \n",
              "391134   Data Engineer  Sql / Bi Entwickler (m/w/d) - It Data Engineer   \n",
              "594444   Data Engineer                    Data Engineer (3640 USD/Mes)   \n",
              "313443  Data Scientist                       Techno Functional Analyst   \n",
              "\n",
              "                         job_location                job_via  \\\n",
              "51077                        Anywhere           via LinkedIn   \n",
              "163840                     London, UK   via MyArklaMiss Jobs   \n",
              "391134  Freiburg im Breisgau, Germany  via My ArkLaMiss Jobs   \n",
              "594444                       Anywhere           via LinkedIn   \n",
              "313443                      Singapore             via Jooble   \n",
              "\n",
              "       job_schedule_type  job_work_from_home search_location  \\\n",
              "51077          Full-time                True           India   \n",
              "163840         Full-time               False  United Kingdom   \n",
              "391134         Full-time               False         Germany   \n",
              "594444         Full-time                True          Mexico   \n",
              "313443         Full-time               False       Singapore   \n",
              "\n",
              "           job_posted_date  job_no_degree_mention  job_health_insurance  \\\n",
              "51077  2023-06-21 06:13:06                  False                 False   \n",
              "163840 2023-07-31 16:01:20                   True                 False   \n",
              "391134 2023-02-16 18:15:09                   True                 False   \n",
              "594444 2023-10-31 09:09:04                   True                 False   \n",
              "313443 2023-01-10 17:42:12                   True                 False   \n",
              "\n",
              "           job_country salary_rate  salary_year_avg  salary_hour_avg  \\\n",
              "51077            India        None              NaN              NaN   \n",
              "163840  United Kingdom        None              NaN              NaN   \n",
              "391134         Germany        None              NaN              NaN   \n",
              "594444          Mexico        None              NaN              NaN   \n",
              "313443       Singapore        None              NaN              NaN   \n",
              "\n",
              "                                            company_name  \\\n",
              "51077                                          Skillsoft   \n",
              "163840                                      Agora Talent   \n",
              "391134                                    Ratbacher GmbH   \n",
              "594444                                          Listopro   \n",
              "313443  Tata Consultancy Services Asia Pacific Pte. Ltd.   \n",
              "\n",
              "                                               job_skills  \\\n",
              "51077   ['python', 'r', 'sql', 'sql server', 'azure', ...   \n",
              "163840                                          ['excel']   \n",
              "391134                                            ['sql']   \n",
              "594444  ['sql', 'python', 'r', 'redshift', 'tableau', ...   \n",
              "313443  ['python', 'sql', 'nosql', 'r', 'scala', 'sas'...   \n",
              "\n",
              "                                          job_type_skills  \n",
              "51077   {'cloud': ['azure'], 'databases': ['sql server...  \n",
              "163840                       {'analyst_tools': ['excel']}  \n",
              "391134                           {'programming': ['sql']}  \n",
              "594444  {'analyst_tools': ['tableau', 'excel'], 'cloud...  \n",
              "313443  {'analyst_tools': ['sas', 'tableau', 'cognos']...  "
            ]
          },
          "execution_count": 11,
          "metadata": {},
          "output_type": "execute_result"
        }
      ],
      "source": [
        "df.sample(n=5)"
      ]
    },
    {
      "cell_type": "markdown",
      "metadata": {
        "id": "VGTvC6D-5EWs"
      },
      "source": [
        "Or you can randomly select a fraction of the data (e.g., 10% of the rows), with or without replacement."
      ]
    },
    {
      "cell_type": "code",
      "execution_count": 13,
      "metadata": {
        "id": "iyYRM2bC5EWs",
        "outputId": "04feb870-8629-4d1a-d32a-f94958e312a3"
      },
      "outputs": [
        {
          "data": {
            "text/html": [
              "<div>\n",
              "<style scoped>\n",
              "    .dataframe tbody tr th:only-of-type {\n",
              "        vertical-align: middle;\n",
              "    }\n",
              "\n",
              "    .dataframe tbody tr th {\n",
              "        vertical-align: top;\n",
              "    }\n",
              "\n",
              "    .dataframe thead th {\n",
              "        text-align: right;\n",
              "    }\n",
              "</style>\n",
              "<table border=\"1\" class=\"dataframe\">\n",
              "  <thead>\n",
              "    <tr style=\"text-align: right;\">\n",
              "      <th></th>\n",
              "      <th>job_title_short</th>\n",
              "      <th>job_title</th>\n",
              "      <th>job_location</th>\n",
              "      <th>job_via</th>\n",
              "      <th>job_schedule_type</th>\n",
              "      <th>job_work_from_home</th>\n",
              "      <th>search_location</th>\n",
              "      <th>job_posted_date</th>\n",
              "      <th>job_no_degree_mention</th>\n",
              "      <th>job_health_insurance</th>\n",
              "      <th>job_country</th>\n",
              "      <th>salary_rate</th>\n",
              "      <th>salary_year_avg</th>\n",
              "      <th>salary_hour_avg</th>\n",
              "      <th>company_name</th>\n",
              "      <th>job_skills</th>\n",
              "      <th>job_type_skills</th>\n",
              "    </tr>\n",
              "  </thead>\n",
              "  <tbody>\n",
              "    <tr>\n",
              "      <th>198572</th>\n",
              "      <td>Data Analyst</td>\n",
              "      <td>Alternance - Chargé Data Analyst / Business In...</td>\n",
              "      <td>Issy-les-Moulineaux, France</td>\n",
              "      <td>via TalentDetection</td>\n",
              "      <td>Full-time</td>\n",
              "      <td>False</td>\n",
              "      <td>France</td>\n",
              "      <td>2023-07-07 15:31:19</td>\n",
              "      <td>False</td>\n",
              "      <td>False</td>\n",
              "      <td>France</td>\n",
              "      <td>None</td>\n",
              "      <td>NaN</td>\n",
              "      <td>NaN</td>\n",
              "      <td>La Banque Postale Assurances Iard</td>\n",
              "      <td>['power bi']</td>\n",
              "      <td>{'analyst_tools': ['power bi']}</td>\n",
              "    </tr>\n",
              "    <tr>\n",
              "      <th>497082</th>\n",
              "      <td>Data Scientist</td>\n",
              "      <td>Data scientist experimenté H/F</td>\n",
              "      <td>France</td>\n",
              "      <td>via BeBee</td>\n",
              "      <td>Full-time</td>\n",
              "      <td>False</td>\n",
              "      <td>France</td>\n",
              "      <td>2023-08-24 11:35:30</td>\n",
              "      <td>False</td>\n",
              "      <td>False</td>\n",
              "      <td>France</td>\n",
              "      <td>None</td>\n",
              "      <td>NaN</td>\n",
              "      <td>NaN</td>\n",
              "      <td>Pôle Emploi</td>\n",
              "      <td>None</td>\n",
              "      <td>None</td>\n",
              "    </tr>\n",
              "    <tr>\n",
              "      <th>320530</th>\n",
              "      <td>Machine Learning Engineer</td>\n",
              "      <td>Machine Learning Engineer</td>\n",
              "      <td>Anywhere</td>\n",
              "      <td>via LinkedIn</td>\n",
              "      <td>Full-time</td>\n",
              "      <td>True</td>\n",
              "      <td>Argentina</td>\n",
              "      <td>2023-06-06 17:31:16</td>\n",
              "      <td>False</td>\n",
              "      <td>False</td>\n",
              "      <td>Argentina</td>\n",
              "      <td>None</td>\n",
              "      <td>NaN</td>\n",
              "      <td>NaN</td>\n",
              "      <td>Darwoft</td>\n",
              "      <td>['python', 'sql', 'pandas', 'pytorch', 'tensor...</td>\n",
              "      <td>{'libraries': ['pandas', 'pytorch', 'tensorflo...</td>\n",
              "    </tr>\n",
              "    <tr>\n",
              "      <th>191657</th>\n",
              "      <td>Data Scientist</td>\n",
              "      <td>Data scientist CDD F/H</td>\n",
              "      <td>Bois-Colombes, France</td>\n",
              "      <td>via LinkedIn</td>\n",
              "      <td>Full-time</td>\n",
              "      <td>False</td>\n",
              "      <td>France</td>\n",
              "      <td>2023-01-12 15:16:16</td>\n",
              "      <td>False</td>\n",
              "      <td>False</td>\n",
              "      <td>France</td>\n",
              "      <td>None</td>\n",
              "      <td>NaN</td>\n",
              "      <td>NaN</td>\n",
              "      <td>Abeille Assurances</td>\n",
              "      <td>['sas', 'sas', 'python', 'sql']</td>\n",
              "      <td>{'analyst_tools': ['sas'], 'programming': ['sa...</td>\n",
              "    </tr>\n",
              "    <tr>\n",
              "      <th>31269</th>\n",
              "      <td>Data Analyst</td>\n",
              "      <td>Data Analyst</td>\n",
              "      <td>Hong Kong</td>\n",
              "      <td>via LinkedIn</td>\n",
              "      <td>Full-time</td>\n",
              "      <td>False</td>\n",
              "      <td>Hong Kong</td>\n",
              "      <td>2023-05-08 13:20:06</td>\n",
              "      <td>False</td>\n",
              "      <td>False</td>\n",
              "      <td>Hong Kong</td>\n",
              "      <td>None</td>\n",
              "      <td>NaN</td>\n",
              "      <td>NaN</td>\n",
              "      <td>Hong Kong Technology Venture Company Ltd</td>\n",
              "      <td>['sql', 'python', 'tableau']</td>\n",
              "      <td>{'analyst_tools': ['tableau'], 'programming': ...</td>\n",
              "    </tr>\n",
              "    <tr>\n",
              "      <th>...</th>\n",
              "      <td>...</td>\n",
              "      <td>...</td>\n",
              "      <td>...</td>\n",
              "      <td>...</td>\n",
              "      <td>...</td>\n",
              "      <td>...</td>\n",
              "      <td>...</td>\n",
              "      <td>...</td>\n",
              "      <td>...</td>\n",
              "      <td>...</td>\n",
              "      <td>...</td>\n",
              "      <td>...</td>\n",
              "      <td>...</td>\n",
              "      <td>...</td>\n",
              "      <td>...</td>\n",
              "      <td>...</td>\n",
              "      <td>...</td>\n",
              "    </tr>\n",
              "    <tr>\n",
              "      <th>485446</th>\n",
              "      <td>Data Engineer</td>\n",
              "      <td>Data Engineer</td>\n",
              "      <td>Essendon Fields VIC, Australia</td>\n",
              "      <td>via Trabajo.org</td>\n",
              "      <td>Full-time</td>\n",
              "      <td>False</td>\n",
              "      <td>Australia</td>\n",
              "      <td>2023-05-09 15:01:57</td>\n",
              "      <td>True</td>\n",
              "      <td>False</td>\n",
              "      <td>Australia</td>\n",
              "      <td>None</td>\n",
              "      <td>NaN</td>\n",
              "      <td>NaN</td>\n",
              "      <td>LINFOX</td>\n",
              "      <td>['aws', 'snowflake']</td>\n",
              "      <td>{'cloud': ['aws', 'snowflake']}</td>\n",
              "    </tr>\n",
              "    <tr>\n",
              "      <th>439372</th>\n",
              "      <td>Data Analyst</td>\n",
              "      <td>Data Analyst with Data analytics and Visualiza...</td>\n",
              "      <td>Irving, TX</td>\n",
              "      <td>via Dice</td>\n",
              "      <td>Contractor</td>\n",
              "      <td>False</td>\n",
              "      <td>Texas, United States</td>\n",
              "      <td>2023-03-15 16:01:37</td>\n",
              "      <td>False</td>\n",
              "      <td>False</td>\n",
              "      <td>United States</td>\n",
              "      <td>None</td>\n",
              "      <td>NaN</td>\n",
              "      <td>NaN</td>\n",
              "      <td>Techno-Comp, Inc.</td>\n",
              "      <td>['python', 'sql', 'nosql']</td>\n",
              "      <td>{'programming': ['python', 'sql', 'nosql']}</td>\n",
              "    </tr>\n",
              "    <tr>\n",
              "      <th>675415</th>\n",
              "      <td>Data Analyst</td>\n",
              "      <td>Stage - Assistant Data Analyst Media H/F</td>\n",
              "      <td>Issy-les-Moulineaux, France</td>\n",
              "      <td>via LinkedIn</td>\n",
              "      <td>Full-time</td>\n",
              "      <td>False</td>\n",
              "      <td>France</td>\n",
              "      <td>2023-08-08 10:20:18</td>\n",
              "      <td>False</td>\n",
              "      <td>False</td>\n",
              "      <td>France</td>\n",
              "      <td>None</td>\n",
              "      <td>NaN</td>\n",
              "      <td>NaN</td>\n",
              "      <td>Nestlé</td>\n",
              "      <td>['python', 'sql', 'databricks']</td>\n",
              "      <td>{'cloud': ['databricks'], 'programming': ['pyt...</td>\n",
              "    </tr>\n",
              "    <tr>\n",
              "      <th>645905</th>\n",
              "      <td>Data Engineer</td>\n",
              "      <td>Azure Data Engineer</td>\n",
              "      <td>Anywhere</td>\n",
              "      <td>via LinkedIn</td>\n",
              "      <td>Full-time</td>\n",
              "      <td>True</td>\n",
              "      <td>Lithuania</td>\n",
              "      <td>2023-03-16 12:58:03</td>\n",
              "      <td>True</td>\n",
              "      <td>False</td>\n",
              "      <td>Lithuania</td>\n",
              "      <td>None</td>\n",
              "      <td>NaN</td>\n",
              "      <td>NaN</td>\n",
              "      <td>Nortal</td>\n",
              "      <td>['sql', 'sql server', 'azure', 'power bi']</td>\n",
              "      <td>{'analyst_tools': ['power bi'], 'cloud': ['azu...</td>\n",
              "    </tr>\n",
              "    <tr>\n",
              "      <th>780743</th>\n",
              "      <td>Business Analyst</td>\n",
              "      <td>Business Analyst</td>\n",
              "      <td>Warsaw, Poland</td>\n",
              "      <td>via Trabajo.org</td>\n",
              "      <td>Full-time</td>\n",
              "      <td>False</td>\n",
              "      <td>Poland</td>\n",
              "      <td>2023-01-13 05:41:47</td>\n",
              "      <td>False</td>\n",
              "      <td>False</td>\n",
              "      <td>Poland</td>\n",
              "      <td>None</td>\n",
              "      <td>NaN</td>\n",
              "      <td>NaN</td>\n",
              "      <td>ITDS</td>\n",
              "      <td>['sql', 'swift', 'atlassian', 'jira', 'conflue...</td>\n",
              "      <td>{'async': ['jira', 'confluence'], 'other': ['a...</td>\n",
              "    </tr>\n",
              "  </tbody>\n",
              "</table>\n",
              "<p>78574 rows × 17 columns</p>\n",
              "</div>"
            ],
            "text/plain": [
              "                  job_title_short  \\\n",
              "198572               Data Analyst   \n",
              "497082             Data Scientist   \n",
              "320530  Machine Learning Engineer   \n",
              "191657             Data Scientist   \n",
              "31269                Data Analyst   \n",
              "...                           ...   \n",
              "485446              Data Engineer   \n",
              "439372               Data Analyst   \n",
              "675415               Data Analyst   \n",
              "645905              Data Engineer   \n",
              "780743           Business Analyst   \n",
              "\n",
              "                                                job_title  \\\n",
              "198572  Alternance - Chargé Data Analyst / Business In...   \n",
              "497082                     Data scientist experimenté H/F   \n",
              "320530                          Machine Learning Engineer   \n",
              "191657                             Data scientist CDD F/H   \n",
              "31269                                        Data Analyst   \n",
              "...                                                   ...   \n",
              "485446                                      Data Engineer   \n",
              "439372  Data Analyst with Data analytics and Visualiza...   \n",
              "675415           Stage - Assistant Data Analyst Media H/F   \n",
              "645905                                Azure Data Engineer   \n",
              "780743                                   Business Analyst   \n",
              "\n",
              "                          job_location              job_via job_schedule_type  \\\n",
              "198572     Issy-les-Moulineaux, France  via TalentDetection         Full-time   \n",
              "497082                          France            via BeBee         Full-time   \n",
              "320530                        Anywhere         via LinkedIn         Full-time   \n",
              "191657           Bois-Colombes, France         via LinkedIn         Full-time   \n",
              "31269                        Hong Kong         via LinkedIn         Full-time   \n",
              "...                                ...                  ...               ...   \n",
              "485446  Essendon Fields VIC, Australia      via Trabajo.org         Full-time   \n",
              "439372                      Irving, TX             via Dice        Contractor   \n",
              "675415     Issy-les-Moulineaux, France         via LinkedIn         Full-time   \n",
              "645905                        Anywhere         via LinkedIn         Full-time   \n",
              "780743                  Warsaw, Poland      via Trabajo.org         Full-time   \n",
              "\n",
              "        job_work_from_home       search_location     job_posted_date  \\\n",
              "198572               False                France 2023-07-07 15:31:19   \n",
              "497082               False                France 2023-08-24 11:35:30   \n",
              "320530                True             Argentina 2023-06-06 17:31:16   \n",
              "191657               False                France 2023-01-12 15:16:16   \n",
              "31269                False             Hong Kong 2023-05-08 13:20:06   \n",
              "...                    ...                   ...                 ...   \n",
              "485446               False             Australia 2023-05-09 15:01:57   \n",
              "439372               False  Texas, United States 2023-03-15 16:01:37   \n",
              "675415               False                France 2023-08-08 10:20:18   \n",
              "645905                True             Lithuania 2023-03-16 12:58:03   \n",
              "780743               False                Poland 2023-01-13 05:41:47   \n",
              "\n",
              "        job_no_degree_mention  job_health_insurance    job_country  \\\n",
              "198572                  False                 False         France   \n",
              "497082                  False                 False         France   \n",
              "320530                  False                 False      Argentina   \n",
              "191657                  False                 False         France   \n",
              "31269                   False                 False      Hong Kong   \n",
              "...                       ...                   ...            ...   \n",
              "485446                   True                 False      Australia   \n",
              "439372                  False                 False  United States   \n",
              "675415                  False                 False         France   \n",
              "645905                   True                 False      Lithuania   \n",
              "780743                  False                 False         Poland   \n",
              "\n",
              "       salary_rate  salary_year_avg  salary_hour_avg  \\\n",
              "198572        None              NaN              NaN   \n",
              "497082        None              NaN              NaN   \n",
              "320530        None              NaN              NaN   \n",
              "191657        None              NaN              NaN   \n",
              "31269         None              NaN              NaN   \n",
              "...            ...              ...              ...   \n",
              "485446        None              NaN              NaN   \n",
              "439372        None              NaN              NaN   \n",
              "675415        None              NaN              NaN   \n",
              "645905        None              NaN              NaN   \n",
              "780743        None              NaN              NaN   \n",
              "\n",
              "                                    company_name  \\\n",
              "198572         La Banque Postale Assurances Iard   \n",
              "497082                               Pôle Emploi   \n",
              "320530                                   Darwoft   \n",
              "191657                        Abeille Assurances   \n",
              "31269   Hong Kong Technology Venture Company Ltd   \n",
              "...                                          ...   \n",
              "485446                                    LINFOX   \n",
              "439372                         Techno-Comp, Inc.   \n",
              "675415                                    Nestlé   \n",
              "645905                                    Nortal   \n",
              "780743                                      ITDS   \n",
              "\n",
              "                                               job_skills  \\\n",
              "198572                                       ['power bi']   \n",
              "497082                                               None   \n",
              "320530  ['python', 'sql', 'pandas', 'pytorch', 'tensor...   \n",
              "191657                    ['sas', 'sas', 'python', 'sql']   \n",
              "31269                        ['sql', 'python', 'tableau']   \n",
              "...                                                   ...   \n",
              "485446                               ['aws', 'snowflake']   \n",
              "439372                         ['python', 'sql', 'nosql']   \n",
              "675415                    ['python', 'sql', 'databricks']   \n",
              "645905         ['sql', 'sql server', 'azure', 'power bi']   \n",
              "780743  ['sql', 'swift', 'atlassian', 'jira', 'conflue...   \n",
              "\n",
              "                                          job_type_skills  \n",
              "198572                    {'analyst_tools': ['power bi']}  \n",
              "497082                                               None  \n",
              "320530  {'libraries': ['pandas', 'pytorch', 'tensorflo...  \n",
              "191657  {'analyst_tools': ['sas'], 'programming': ['sa...  \n",
              "31269   {'analyst_tools': ['tableau'], 'programming': ...  \n",
              "...                                                   ...  \n",
              "485446                    {'cloud': ['aws', 'snowflake']}  \n",
              "439372        {'programming': ['python', 'sql', 'nosql']}  \n",
              "675415  {'cloud': ['databricks'], 'programming': ['pyt...  \n",
              "645905  {'analyst_tools': ['power bi'], 'cloud': ['azu...  \n",
              "780743  {'async': ['jira', 'confluence'], 'other': ['a...  \n",
              "\n",
              "[78574 rows x 17 columns]"
            ]
          },
          "execution_count": 13,
          "metadata": {},
          "output_type": "execute_result"
        }
      ],
      "source": [
        "df.sample(frac=0.1, replace=False)"
      ]
    },
    {
      "cell_type": "markdown",
      "metadata": {
        "id": "NTrbKGkm5EWs"
      },
      "source": [
        "Now you can analyze these subsets of data."
      ]
    }
  ],
  "metadata": {
    "colab": {
      "provenance": []
    },
    "kernelspec": {
      "display_name": "python_course",
      "language": "python",
      "name": "python3"
    },
    "language_info": {
      "codemirror_mode": {
        "name": "ipython",
        "version": 3
      },
      "file_extension": ".py",
      "mimetype": "text/x-python",
      "name": "python",
      "nbconvert_exporter": "python",
      "pygments_lexer": "ipython3",
      "version": "3.11.11"
    }
  },
  "nbformat": 4,
  "nbformat_minor": 0
}
