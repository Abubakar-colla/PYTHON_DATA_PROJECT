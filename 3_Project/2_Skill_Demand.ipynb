{
  "cells": [
    {
      "cell_type": "markdown",
      "metadata": {
        "id": "e2276333"
      },
      "source": [
        "<a target=\"_blank\" href=\"https://colab.research.google.com/github/lukebarousse/Python_Data_Analytics_Course/blob/main/3_Project/2_Skill_Demand.ipynb\">\n",
        "  <img src=\"https://colab.research.google.com/assets/colab-badge.svg\" alt=\"Open In Colab\"/>\n",
        "</a>"
      ]
    },
    {
      "cell_type": "markdown",
      "metadata": {
        "id": "_ekUpVmNskSC"
      },
      "source": [
        "# What are the most demanded skills for the top 3 most popular data roles?\n",
        "\n",
        "#### Methodology\n",
        "1. Clean-up skill column\n",
        "2. Calculate skill count based on `job_title_short`\n",
        "3. Calculate skill percentage\n",
        "4. Plot final findings\n",
        "\n",
        "#### Original Exploration\n",
        "[13_Matplotlib_Format_Charts.ipynb](../2_Advanced/13_Matplotlib_Format_Charts.ipynb)"
      ]
    },
    {
      "cell_type": "markdown",
      "metadata": {
        "id": "hT6ZzNITskSD"
      },
      "source": [
        "## Import Libraries and Data"
      ]
    },
    {
      "cell_type": "code",
      "execution_count": 2,
      "metadata": {
        "id": "_Tx01d2xskSE"
      },
      "outputs": [
        {
          "name": "stderr",
          "output_type": "stream",
          "text": [
            "c:\\Users\\EliteBook mt44\\anaconda3\\envs\\python_course\\Lib\\site-packages\\tqdm\\auto.py:21: TqdmWarning: IProgress not found. Please update jupyter and ipywidgets. See https://ipywidgets.readthedocs.io/en/stable/user_install.html\n",
            "  from .autonotebook import tqdm as notebook_tqdm\n"
          ]
        }
      ],
      "source": [
        "# Importing Libraries\n",
        "import ast\n",
        "import pandas as pd\n",
        "import seaborn as sns\n",
        "from datasets import load_dataset\n",
        "import matplotlib.pyplot as plt\n",
        "\n",
        "# Loading Data\n",
        "dataset = load_dataset('lukebarousse/data_jobs')\n",
        "df = dataset['train'].to_pandas()\n",
        "\n",
        "# Data Cleanup\n",
        "df['job_posted_date'] = pd.to_datetime(df['job_posted_date'])\n",
        "df['job_skills'] = df['job_skills'].apply(lambda x: ast.literal_eval(x) if pd.notna(x) else x)"
      ]
    },
    {
      "cell_type": "markdown",
      "metadata": {
        "id": "YjF5ROs2skSG"
      },
      "source": [
        "## Filter Data for the United States\n",
        "\n",
        "Filter the data for the market of the United States."
      ]
    },
    {
      "cell_type": "code",
      "execution_count": 3,
      "metadata": {
        "id": "2ITLHIotskSH"
      },
      "outputs": [],
      "source": [
        "df_CA = df[df['job_country'] == 'Canada']"
      ]
    },
    {
      "cell_type": "markdown",
      "metadata": {
        "id": "4UQU2V-4skSH"
      },
      "source": [
        "## Explode Skills"
      ]
    },
    {
      "cell_type": "markdown",
      "metadata": {
        "id": "xyMCjuulskSI"
      },
      "source": [
        "Converts the `job_skills` column from string representations of lists into actual list objects and then expands these lists so each skill appears in its own row. It then displays the `job_title` and `job_skills` columns, allowing us to analyze the distribution of skills across different data job titles."
      ]
    },
    {
      "cell_type": "code",
      "execution_count": 4,
      "metadata": {
        "id": "LpNKsq6VskSJ",
        "outputId": "07a7e155-e7f5-48f8-c7e7-17d62e375e8b"
      },
      "outputs": [
        {
          "data": {
            "text/html": [
              "<div>\n",
              "<style scoped>\n",
              "    .dataframe tbody tr th:only-of-type {\n",
              "        vertical-align: middle;\n",
              "    }\n",
              "\n",
              "    .dataframe tbody tr th {\n",
              "        vertical-align: top;\n",
              "    }\n",
              "\n",
              "    .dataframe thead th {\n",
              "        text-align: right;\n",
              "    }\n",
              "</style>\n",
              "<table border=\"1\" class=\"dataframe\">\n",
              "  <thead>\n",
              "    <tr style=\"text-align: right;\">\n",
              "      <th></th>\n",
              "      <th>job_title</th>\n",
              "      <th>job_skills</th>\n",
              "    </tr>\n",
              "  </thead>\n",
              "  <tbody>\n",
              "    <tr>\n",
              "      <th>50</th>\n",
              "      <td>Sr ML Engineer - Research &amp; NLP (Remote)</td>\n",
              "      <td>python</td>\n",
              "    </tr>\n",
              "    <tr>\n",
              "      <th>50</th>\n",
              "      <td>Sr ML Engineer - Research &amp; NLP (Remote)</td>\n",
              "      <td>sql</td>\n",
              "    </tr>\n",
              "    <tr>\n",
              "      <th>50</th>\n",
              "      <td>Sr ML Engineer - Research &amp; NLP (Remote)</td>\n",
              "      <td>pytorch</td>\n",
              "    </tr>\n",
              "    <tr>\n",
              "      <th>50</th>\n",
              "      <td>Sr ML Engineer - Research &amp; NLP (Remote)</td>\n",
              "      <td>pandas</td>\n",
              "    </tr>\n",
              "    <tr>\n",
              "      <th>59</th>\n",
              "      <td>Data Engineer with Dremio Experience</td>\n",
              "      <td>sql</td>\n",
              "    </tr>\n",
              "    <tr>\n",
              "      <th>...</th>\n",
              "      <td>...</td>\n",
              "      <td>...</td>\n",
              "    </tr>\n",
              "    <tr>\n",
              "      <th>785511</th>\n",
              "      <td>Data Engineer</td>\n",
              "      <td>spark</td>\n",
              "    </tr>\n",
              "    <tr>\n",
              "      <th>785511</th>\n",
              "      <td>Data Engineer</td>\n",
              "      <td>airflow</td>\n",
              "    </tr>\n",
              "    <tr>\n",
              "      <th>785511</th>\n",
              "      <td>Data Engineer</td>\n",
              "      <td>kafka</td>\n",
              "    </tr>\n",
              "    <tr>\n",
              "      <th>785643</th>\n",
              "      <td>Analyste</td>\n",
              "      <td>word</td>\n",
              "    </tr>\n",
              "    <tr>\n",
              "      <th>785643</th>\n",
              "      <td>Analyste</td>\n",
              "      <td>excel</td>\n",
              "    </tr>\n",
              "  </tbody>\n",
              "</table>\n",
              "<p>94073 rows × 2 columns</p>\n",
              "</div>"
            ],
            "text/plain": [
              "                                       job_title job_skills\n",
              "50      Sr ML Engineer - Research & NLP (Remote)     python\n",
              "50      Sr ML Engineer - Research & NLP (Remote)        sql\n",
              "50      Sr ML Engineer - Research & NLP (Remote)    pytorch\n",
              "50      Sr ML Engineer - Research & NLP (Remote)     pandas\n",
              "59          Data Engineer with Dremio Experience        sql\n",
              "...                                          ...        ...\n",
              "785511                             Data Engineer      spark\n",
              "785511                             Data Engineer    airflow\n",
              "785511                             Data Engineer      kafka\n",
              "785643                                  Analyste       word\n",
              "785643                                  Analyste      excel\n",
              "\n",
              "[94073 rows x 2 columns]"
            ]
          },
          "execution_count": 4,
          "metadata": {},
          "output_type": "execute_result"
        }
      ],
      "source": [
        "df_skills = df_CA.explode('job_skills')\n",
        "\n",
        "df_skills[['job_title', 'job_skills']]"
      ]
    },
    {
      "cell_type": "markdown",
      "metadata": {
        "id": "mMPjL900skSJ"
      },
      "source": [
        "## Count Skills per Job Title\n",
        "\n",
        "Groups DataFrame by `job_skills` and `job_title_short`, counting the occurrences of each skill within each job title. Then resets the index of the Series to turn it back into a DataFrame and renames the series holding the count to 'count'. The final DataFrame, `df_skills_count`, shows the frequency of each skill with each job title."
      ]
    },
    {
      "cell_type": "code",
      "execution_count": 5,
      "metadata": {
        "id": "05-E_94fskSK",
        "outputId": "6d2a6eb0-ac96-4354-bcd8-f505ade22dd2"
      },
      "outputs": [
        {
          "data": {
            "text/html": [
              "<div>\n",
              "<style scoped>\n",
              "    .dataframe tbody tr th:only-of-type {\n",
              "        vertical-align: middle;\n",
              "    }\n",
              "\n",
              "    .dataframe tbody tr th {\n",
              "        vertical-align: top;\n",
              "    }\n",
              "\n",
              "    .dataframe thead th {\n",
              "        text-align: right;\n",
              "    }\n",
              "</style>\n",
              "<table border=\"1\" class=\"dataframe\">\n",
              "  <thead>\n",
              "    <tr style=\"text-align: right;\">\n",
              "      <th></th>\n",
              "      <th>job_skills</th>\n",
              "      <th>job_title_short</th>\n",
              "      <th>skill_count</th>\n",
              "    </tr>\n",
              "  </thead>\n",
              "  <tbody>\n",
              "    <tr>\n",
              "      <th>1215</th>\n",
              "      <td>sql</td>\n",
              "      <td>Data Engineer</td>\n",
              "      <td>3794</td>\n",
              "    </tr>\n",
              "    <tr>\n",
              "      <th>949</th>\n",
              "      <td>python</td>\n",
              "      <td>Data Engineer</td>\n",
              "      <td>3567</td>\n",
              "    </tr>\n",
              "    <tr>\n",
              "      <th>108</th>\n",
              "      <td>azure</td>\n",
              "      <td>Data Engineer</td>\n",
              "      <td>2217</td>\n",
              "    </tr>\n",
              "    <tr>\n",
              "      <th>98</th>\n",
              "      <td>aws</td>\n",
              "      <td>Data Engineer</td>\n",
              "      <td>2030</td>\n",
              "    </tr>\n",
              "    <tr>\n",
              "      <th>1171</th>\n",
              "      <td>spark</td>\n",
              "      <td>Data Engineer</td>\n",
              "      <td>1948</td>\n",
              "    </tr>\n",
              "    <tr>\n",
              "      <th>...</th>\n",
              "      <td>...</td>\n",
              "      <td>...</td>\n",
              "      <td>...</td>\n",
              "    </tr>\n",
              "    <tr>\n",
              "      <th>749</th>\n",
              "      <td>no-sql</td>\n",
              "      <td>Cloud Engineer</td>\n",
              "      <td>1</td>\n",
              "    </tr>\n",
              "    <tr>\n",
              "      <th>748</th>\n",
              "      <td>no-sql</td>\n",
              "      <td>Business Analyst</td>\n",
              "      <td>1</td>\n",
              "    </tr>\n",
              "    <tr>\n",
              "      <th>671</th>\n",
              "      <td>mattermost</td>\n",
              "      <td>Senior Data Analyst</td>\n",
              "      <td>1</td>\n",
              "    </tr>\n",
              "    <tr>\n",
              "      <th>1439</th>\n",
              "      <td>webex</td>\n",
              "      <td>Data Scientist</td>\n",
              "      <td>1</td>\n",
              "    </tr>\n",
              "    <tr>\n",
              "      <th>10</th>\n",
              "      <td>airtable</td>\n",
              "      <td>Business Analyst</td>\n",
              "      <td>1</td>\n",
              "    </tr>\n",
              "  </tbody>\n",
              "</table>\n",
              "<p>1485 rows × 3 columns</p>\n",
              "</div>"
            ],
            "text/plain": [
              "      job_skills      job_title_short  skill_count\n",
              "1215         sql        Data Engineer         3794\n",
              "949       python        Data Engineer         3567\n",
              "108        azure        Data Engineer         2217\n",
              "98           aws        Data Engineer         2030\n",
              "1171       spark        Data Engineer         1948\n",
              "...          ...                  ...          ...\n",
              "749       no-sql       Cloud Engineer            1\n",
              "748       no-sql     Business Analyst            1\n",
              "671   mattermost  Senior Data Analyst            1\n",
              "1439       webex       Data Scientist            1\n",
              "10      airtable     Business Analyst            1\n",
              "\n",
              "[1485 rows x 3 columns]"
            ]
          },
          "execution_count": 5,
          "metadata": {},
          "output_type": "execute_result"
        }
      ],
      "source": [
        "# Group by job_skills and job_title_short and count the number of occurrences\n",
        "df_skills_count = df_skills.groupby(['job_skills', 'job_title_short']).size()\n",
        "\n",
        "# Name the count column as count\n",
        "df_skills_count = df_skills_count.reset_index(name='skill_count')\n",
        "\n",
        "# Sort the values by skill_count in descending order\n",
        "df_skills_count.sort_values(by='skill_count', ascending=False, inplace=True)\n",
        "\n",
        "df_skills_count"
      ]
    },
    {
      "cell_type": "markdown",
      "metadata": {
        "id": "kIxJp-6eskSK"
      },
      "source": [
        "## Create List of Top 3 Roles\n",
        "\n",
        "#### Focus: Data Analysts, Data Engineers, and Data Scientists\n",
        "\n",
        "Filter the job titles based on the most popular."
      ]
    },
    {
      "cell_type": "code",
      "execution_count": 6,
      "metadata": {
        "id": "PJC5S74-skSL",
        "outputId": "281e0347-ed11-43ea-b0bb-12dd07586e99"
      },
      "outputs": [
        {
          "data": {
            "text/plain": [
              "['Data Analyst', 'Data Engineer', 'Senior Data Engineer']"
            ]
          },
          "execution_count": 6,
          "metadata": {},
          "output_type": "execute_result"
        }
      ],
      "source": [
        "job_titles = df_skills_count['job_title_short'].unique().tolist()\n",
        "\n",
        "job_titles = sorted(job_titles[:3])\n",
        "\n",
        "job_titles"
      ]
    },
    {
      "cell_type": "markdown",
      "metadata": {
        "id": "69YixvsXskSL"
      },
      "source": [
        "## Plot Skill Counts"
      ]
    },
    {
      "cell_type": "markdown",
      "metadata": {
        "id": "LW8-kdvLskSL"
      },
      "source": [
        "Creates a stacked horizontal bar chart for the top 5 skills for Top 3 roles, displaying the frequency of each skill."
      ]
    },
    {
      "cell_type": "code",
      "execution_count": 7,
      "metadata": {
        "id": "IqMSsDrNskSM",
        "outputId": "2781f1a8-7742-4073-e09c-7b41b4ba1d0b"
      },
      "outputs": [
        {
          "data": {
            "image/png": "[encoded data removed]",
            "text/plain": [
              "<Figure size 640x480 with 3 Axes>"
            ]
          },
          "metadata": {},
          "output_type": "display_data"
        }
      ],
      "source": [
        "fig, ax = plt.subplots(len(job_titles), 1)\n",
        "\n",
        "sns.set_theme(style='ticks')\n",
        "\n",
        "for i, job_title in enumerate(job_titles):\n",
        "    df_plot = df_skills_count[df_skills_count['job_title_short'] == job_title].head(5)[::-1]\n",
        "    sns.barplot(data=df_plot, x='skill_count', y='job_skills', ax=ax[i], hue='skill_count', palette='dark:b_r')\n",
        "    ax[i].set_title(job_title)\n",
        "    ax[i].invert_yaxis()\n",
        "    ax[i].set_ylabel('')\n",
        "    ax[i].set_xlabel('')\n",
        "    ax[i].get_legend().remove()\n",
        "    ax[i].set_xlim(0, 45000) # make the scales the same\n",
        "\n",
        "fig.suptitle('Counts of Skills Requested in Canada Job Postings', fontsize=15)\n",
        "fig.tight_layout(h_pad=0.5) # fix the overlap\n",
        "plt.show()"
      ]
    },
    {
      "cell_type": "markdown",
      "metadata": {
        "id": "Du7XfEEdskSM"
      },
      "source": [
        "## Convert Counts to Percentages\n",
        "\n",
        "#### Focus: Counts don't show what portions of jobs are requesting these skills\n",
        "\n",
        "So we'll convert the counts into percentages which helps us understand how each job title represents relative to the entire dataset."
      ]
    },
    {
      "cell_type": "markdown",
      "metadata": {
        "id": "xa9fondJskSM"
      },
      "source": [
        "Before we can calculate the percentages we need the total counts for the jobs posted by job title. Calculate the frequency of each job title using the `value_counts()` method on the `job_title_short` column. Then reset the index to transform the Series into a DataFrame and renames the columns to `job_title_short` and `total`. The DataFrame `df_job_title_count` now holds a list of job titles alongside their total occurrences."
      ]
    },
    {
      "cell_type": "code",
      "execution_count": 10,
      "metadata": {
        "id": "kfOulUwUskSM",
        "outputId": "f6cc1b9d-5af7-40bd-987f-8259faa9584d"
      },
      "outputs": [
        {
          "data": {
            "text/html": [
              "<div>\n",
              "<style scoped>\n",
              "    .dataframe tbody tr th:only-of-type {\n",
              "        vertical-align: middle;\n",
              "    }\n",
              "\n",
              "    .dataframe tbody tr th {\n",
              "        vertical-align: top;\n",
              "    }\n",
              "\n",
              "    .dataframe thead th {\n",
              "        text-align: right;\n",
              "    }\n",
              "</style>\n",
              "<table border=\"1\" class=\"dataframe\">\n",
              "  <thead>\n",
              "    <tr style=\"text-align: right;\">\n",
              "      <th></th>\n",
              "      <th>job_title_short</th>\n",
              "      <th>jobs_total</th>\n",
              "    </tr>\n",
              "  </thead>\n",
              "  <tbody>\n",
              "    <tr>\n",
              "      <th>0</th>\n",
              "      <td>Data Engineer</td>\n",
              "      <td>5828</td>\n",
              "    </tr>\n",
              "    <tr>\n",
              "      <th>1</th>\n",
              "      <td>Data Analyst</td>\n",
              "      <td>2365</td>\n",
              "    </tr>\n",
              "    <tr>\n",
              "      <th>2</th>\n",
              "      <td>Data Scientist</td>\n",
              "      <td>1825</td>\n",
              "    </tr>\n",
              "    <tr>\n",
              "      <th>3</th>\n",
              "      <td>Senior Data Engineer</td>\n",
              "      <td>1776</td>\n",
              "    </tr>\n",
              "    <tr>\n",
              "      <th>4</th>\n",
              "      <td>Software Engineer</td>\n",
              "      <td>1254</td>\n",
              "    </tr>\n",
              "    <tr>\n",
              "      <th>5</th>\n",
              "      <td>Business Analyst</td>\n",
              "      <td>1109</td>\n",
              "    </tr>\n",
              "    <tr>\n",
              "      <th>6</th>\n",
              "      <td>Senior Data Scientist</td>\n",
              "      <td>589</td>\n",
              "    </tr>\n",
              "    <tr>\n",
              "      <th>7</th>\n",
              "      <td>Machine Learning Engineer</td>\n",
              "      <td>566</td>\n",
              "    </tr>\n",
              "    <tr>\n",
              "      <th>8</th>\n",
              "      <td>Senior Data Analyst</td>\n",
              "      <td>435</td>\n",
              "    </tr>\n",
              "    <tr>\n",
              "      <th>9</th>\n",
              "      <td>Cloud Engineer</td>\n",
              "      <td>282</td>\n",
              "    </tr>\n",
              "  </tbody>\n",
              "</table>\n",
              "</div>"
            ],
            "text/plain": [
              "             job_title_short  jobs_total\n",
              "0              Data Engineer        5828\n",
              "1               Data Analyst        2365\n",
              "2             Data Scientist        1825\n",
              "3       Senior Data Engineer        1776\n",
              "4          Software Engineer        1254\n",
              "5           Business Analyst        1109\n",
              "6      Senior Data Scientist         589\n",
              "7  Machine Learning Engineer         566\n",
              "8        Senior Data Analyst         435\n",
              "9             Cloud Engineer         282"
            ]
          },
          "execution_count": 10,
          "metadata": {},
          "output_type": "execute_result"
        }
      ],
      "source": [
        "# Use original df to get the count of job titles\n",
        "df_job_title_count = df_CA['job_title_short'].value_counts().reset_index(name='jobs_total')\n",
        "\n",
        "df_job_title_count"
      ]
    },
    {
      "cell_type": "markdown",
      "metadata": {
        "id": "6_nK71d4skSN"
      },
      "source": [
        "Then we calculate the percentages. First merge `df_skills_count` and `df_job_title_count`, based on the 'job_title_short' column, ensuring each skill count is associated with the total number of job postings for that title. Then calculate the percentage of each skill within its job title by dividing the skill count by the total job postings and multiplying by 100, adding this new data as a 'percentage' column."
      ]
    },
    {
      "cell_type": "code",
      "execution_count": 11,
      "metadata": {
        "id": "OGAaqkW2skSN",
        "outputId": "4cbb95c0-0df8-4a4c-c88f-eb136aa4c102"
      },
      "outputs": [
        {
          "data": {
            "text/html": [
              "<div>\n",
              "<style scoped>\n",
              "    .dataframe tbody tr th:only-of-type {\n",
              "        vertical-align: middle;\n",
              "    }\n",
              "\n",
              "    .dataframe tbody tr th {\n",
              "        vertical-align: top;\n",
              "    }\n",
              "\n",
              "    .dataframe thead th {\n",
              "        text-align: right;\n",
              "    }\n",
              "</style>\n",
              "<table border=\"1\" class=\"dataframe\">\n",
              "  <thead>\n",
              "    <tr style=\"text-align: right;\">\n",
              "      <th></th>\n",
              "      <th>job_skills</th>\n",
              "      <th>job_title_short</th>\n",
              "      <th>skill_count</th>\n",
              "      <th>jobs_total</th>\n",
              "      <th>skill_percent</th>\n",
              "    </tr>\n",
              "  </thead>\n",
              "  <tbody>\n",
              "    <tr>\n",
              "      <th>0</th>\n",
              "      <td>sql</td>\n",
              "      <td>Data Engineer</td>\n",
              "      <td>3794</td>\n",
              "      <td>5828</td>\n",
              "      <td>65.099520</td>\n",
              "    </tr>\n",
              "    <tr>\n",
              "      <th>1</th>\n",
              "      <td>python</td>\n",
              "      <td>Data Engineer</td>\n",
              "      <td>3567</td>\n",
              "      <td>5828</td>\n",
              "      <td>61.204530</td>\n",
              "    </tr>\n",
              "    <tr>\n",
              "      <th>2</th>\n",
              "      <td>azure</td>\n",
              "      <td>Data Engineer</td>\n",
              "      <td>2217</td>\n",
              "      <td>5828</td>\n",
              "      <td>38.040494</td>\n",
              "    </tr>\n",
              "    <tr>\n",
              "      <th>3</th>\n",
              "      <td>aws</td>\n",
              "      <td>Data Engineer</td>\n",
              "      <td>2030</td>\n",
              "      <td>5828</td>\n",
              "      <td>34.831846</td>\n",
              "    </tr>\n",
              "    <tr>\n",
              "      <th>4</th>\n",
              "      <td>spark</td>\n",
              "      <td>Data Engineer</td>\n",
              "      <td>1948</td>\n",
              "      <td>5828</td>\n",
              "      <td>33.424846</td>\n",
              "    </tr>\n",
              "    <tr>\n",
              "      <th>...</th>\n",
              "      <td>...</td>\n",
              "      <td>...</td>\n",
              "      <td>...</td>\n",
              "      <td>...</td>\n",
              "      <td>...</td>\n",
              "    </tr>\n",
              "    <tr>\n",
              "      <th>1480</th>\n",
              "      <td>no-sql</td>\n",
              "      <td>Cloud Engineer</td>\n",
              "      <td>1</td>\n",
              "      <td>282</td>\n",
              "      <td>0.354610</td>\n",
              "    </tr>\n",
              "    <tr>\n",
              "      <th>1481</th>\n",
              "      <td>no-sql</td>\n",
              "      <td>Business Analyst</td>\n",
              "      <td>1</td>\n",
              "      <td>1109</td>\n",
              "      <td>0.090171</td>\n",
              "    </tr>\n",
              "    <tr>\n",
              "      <th>1482</th>\n",
              "      <td>mattermost</td>\n",
              "      <td>Senior Data Analyst</td>\n",
              "      <td>1</td>\n",
              "      <td>435</td>\n",
              "      <td>0.229885</td>\n",
              "    </tr>\n",
              "    <tr>\n",
              "      <th>1483</th>\n",
              "      <td>webex</td>\n",
              "      <td>Data Scientist</td>\n",
              "      <td>1</td>\n",
              "      <td>1825</td>\n",
              "      <td>0.054795</td>\n",
              "    </tr>\n",
              "    <tr>\n",
              "      <th>1484</th>\n",
              "      <td>airtable</td>\n",
              "      <td>Business Analyst</td>\n",
              "      <td>1</td>\n",
              "      <td>1109</td>\n",
              "      <td>0.090171</td>\n",
              "    </tr>\n",
              "  </tbody>\n",
              "</table>\n",
              "<p>1485 rows × 5 columns</p>\n",
              "</div>"
            ],
            "text/plain": [
              "      job_skills      job_title_short  skill_count  jobs_total  skill_percent\n",
              "0            sql        Data Engineer         3794        5828      65.099520\n",
              "1         python        Data Engineer         3567        5828      61.204530\n",
              "2          azure        Data Engineer         2217        5828      38.040494\n",
              "3            aws        Data Engineer         2030        5828      34.831846\n",
              "4          spark        Data Engineer         1948        5828      33.424846\n",
              "...          ...                  ...          ...         ...            ...\n",
              "1480      no-sql       Cloud Engineer            1         282       0.354610\n",
              "1481      no-sql     Business Analyst            1        1109       0.090171\n",
              "1482  mattermost  Senior Data Analyst            1         435       0.229885\n",
              "1483       webex       Data Scientist            1        1825       0.054795\n",
              "1484    airtable     Business Analyst            1        1109       0.090171\n",
              "\n",
              "[1485 rows x 5 columns]"
            ]
          },
          "execution_count": 11,
          "metadata": {},
          "output_type": "execute_result"
        }
      ],
      "source": [
        "df_skills_perc = pd.merge(df_skills_count, df_job_title_count, on='job_title_short', how='left')\n",
        "\n",
        "df_skills_perc['skill_percent'] = (df_skills_perc['skill_count'] / df_skills_perc['jobs_total']) * 100\n",
        "\n",
        "df_skills_perc"
      ]
    },
    {
      "cell_type": "markdown",
      "metadata": {
        "id": "1P8dt3oUskSN"
      },
      "source": [
        "## Plot Percentage Count"
      ]
    },
    {
      "cell_type": "markdown",
      "metadata": {
        "id": "C93OqNJgskSN"
      },
      "source": [
        "Filters and sorts a DataFrame to get the top 5 skills percentages for these top 3 roles. After sorting the skills by descending percentage, reverse the order of these top 5 entries to use in a horizontal bar plot, which by default starts plotting from the bottom."
      ]
    },
    {
      "cell_type": "code",
      "execution_count": 12,
      "metadata": {
        "id": "jyzOxmcSskSN",
        "outputId": "5a58e02d-0f62-4ef1-b235-68c86860d0d6"
      },
      "outputs": [
        {
          "data": {
            "image/png": "[encoded data removed]",
            "text/plain": [
              "<Figure size 640x480 with 3 Axes>"
            ]
          },
          "metadata": {},
          "output_type": "display_data"
        }
      ],
      "source": [
        "fig, ax = plt.subplots(len(job_titles), 1)\n",
        "\n",
        "\n",
        "for i, job_title in enumerate(job_titles):\n",
        "    df_plot = df_skills_perc[df_skills_perc['job_title_short'] == job_title].head(5)\n",
        "    sns.barplot(data=df_plot, x='skill_percent', y='job_skills', ax=ax[i], hue='skill_count', palette='dark:b_r')\n",
        "    ax[i].set_title(job_title)\n",
        "    ax[i].set_ylabel('')\n",
        "    ax[i].set_xlabel('')\n",
        "    ax[i].get_legend().remove()\n",
        "    ax[i].set_xlim(0, 78)\n",
        "    # remove the x-axis tick labels for better readability\n",
        "    if i != len(job_titles) - 1:\n",
        "        ax[i].set_xticks([])\n",
        "\n",
        "    # label the percentage on the bars\n",
        "    for n, v in enumerate(df_plot['skill_percent']):\n",
        "        ax[i].text(v + 1, n, f'{v:.0f}%', va='center')\n",
        "\n",
        "fig.suptitle('Likelihood of Skills Requested in Canada Job Postings', fontsize=15)\n",
        "fig.tight_layout(h_pad=.8)\n",
        "plt.show()"
      ]
    }
  ],
  "metadata": {
    "colab": {
      "provenance": []
    },
    "kernelspec": {
      "display_name": "python_course",
      "language": "python",
      "name": "python3"
    },
    "language_info": {
      "codemirror_mode": {
        "name": "ipython",
        "version": 3
      },
      "file_extension": ".py",
      "mimetype": "text/x-python",
      "name": "python",
      "nbconvert_exporter": "python",
      "pygments_lexer": "ipython3",
      "version": "3.11.11"
    }
  },
  "nbformat": 4,
  "nbformat_minor": 0
}
